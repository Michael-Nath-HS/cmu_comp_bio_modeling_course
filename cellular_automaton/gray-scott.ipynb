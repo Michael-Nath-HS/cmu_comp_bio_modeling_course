{
 "cells": [
  {
   "cell_type": "code",
   "execution_count": 36,
   "metadata": {},
   "outputs": [],
   "source": [
    "# Michael Nath"
   ]
  },
  {
   "cell_type": "code",
   "execution_count": 37,
   "metadata": {},
   "outputs": [],
   "source": [
    "# RUN THIS ONLY WHEN YOU ARE BEGINNING SIMULATIONS FOR THE FIRST TIME\n",
    "run_number = 0"
   ]
  },
  {
   "cell_type": "code",
   "execution_count": 48,
   "metadata": {},
   "outputs": [],
   "source": [
    "# import the necessary modules for diffusion function\n",
    "import matplotlib.pyplot as plt\n",
    "import numpy as np\n",
    "import time\n",
    "from scipy import signal\n",
    "import imageio\n",
    "%matplotlib inline\n",
    "images = []"
   ]
  },
  {
   "cell_type": "code",
   "execution_count": 39,
   "metadata": {},
   "outputs": [
    {
     "data": {
      "text/plain": [
       "'\\nSimulate function\\nDescription: Simulate the Gray-Scott model for numIter iterations.\\nInputs:\\n    - numIter:  number of iterations\\n    - A:        prey matrix\\n    - B:        predator matrix\\n    - f:        feed rate\\n    - k:        kill rate\\n    - dt:       time constant\\n    - dA:       prey diffusion constant\\n    - dB:       predator diffusion constant\\n    - lapl:     3 x 3 Laplacian matrix to calculate diffusion\\n\\nOutputs:\\n    - A_matrices:   Prey matrices over the course of the simulation\\n    - B_matrices:   Predator matrices over the course of the simulation\\n'"
      ]
     },
     "execution_count": 39,
     "metadata": {},
     "output_type": "execute_result"
    }
   ],
   "source": [
    "'''\n",
    "Simulate function\n",
    "Description: Simulate the Gray-Scott model for numIter iterations.\n",
    "Inputs:\n",
    "    - numIter:  number of iterations\n",
    "    - A:        prey matrix\n",
    "    - B:        predator matrix\n",
    "    - f:        feed rate\n",
    "    - k:        kill rate\n",
    "    - dt:       time constant\n",
    "    - dA:       prey diffusion constant\n",
    "    - dB:       predator diffusion constant\n",
    "    - lapl:     3 x 3 Laplacian matrix to calculate diffusion\n",
    "\n",
    "Outputs:\n",
    "    - A_matrices:   Prey matrices over the course of the simulation\n",
    "    - B_matrices:   Predator matrices over the course of the simulation\n",
    "'''"
   ]
  },
  {
   "cell_type": "code",
   "execution_count": 40,
   "metadata": {},
   "outputs": [],
   "source": [
    "def Simulate(numIter, A, B, f, k, dt, dA, dB, lapl, plot_iter):\n",
    "    print(\"Running Simulation\")\n",
    "    start = time.time()\n",
    "    \n",
    "#     Running the simulation\n",
    "    for iter in range(numIter):\n",
    "        # cell updating differs from Diffusion function by now including kill, feed, and reproduction\n",
    "        A_new = A + (dA * signal.convolve2d(A, lapl, mode='same', boundary='fill', fillvalue=0) - (A * B * B) + (f * (1-A))) * dt\n",
    "        B_new = B + (dB * signal.convolve2d(B, lapl, mode='same', boundary='fill', fillvalue=0) + (A * B * B) - (k * B)) * dt\n",
    "        A = np.copy(A_new)\n",
    "        B = np.copy(B_new)\n",
    "        if (iter % plot_iter == 0):\n",
    "            plt.clf()\n",
    "            plt.imshow((B / (A + B)), cmap='Spectral')\n",
    "            plt.axis('off')\n",
    "            now = time.time()\n",
    "#           print(\"Seconds since epoch = \", now - start)\n",
    "#           plt.show()\n",
    "#           saving results of each iteration in gs_images directory\n",
    "            filename = f\"gs_images/{run_number}gs_{str(iter)}.png\"\n",
    "            plt.savefig(filename)\n",
    "            images.append(imageio.imread(filename))\n",
    "    return A, B"
   ]
  },
  {
   "cell_type": "code",
   "execution_count": 41,
   "metadata": {},
   "outputs": [],
   "source": [
    "# defining props of grid\n",
    "grid_size = 101 # Needs to be an odd number. Probably has to do something with edge cases\n",
    "numIter = 5000\n",
    "seed_size = 11 # needs to be an odd number. \n",
    "A = np.ones((grid_size, grid_size))\n",
    "B = np.zeros((grid_size, grid_size))\n",
    "\n",
    "# Seed the predators\n",
    "B[int(grid_size/2)-int(seed_size/2):int(grid_size/2)+int(seed_size/2)+1, \\\n",
    "int(grid_size/2)-int(seed_size/2):int(grid_size/2)+int(seed_size/2)+1] = \\\n",
    "np.ones((seed_size,seed_size))"
   ]
  },
  {
   "cell_type": "code",
   "execution_count": 46,
   "metadata": {},
   "outputs": [],
   "source": [
    "# defining simulation variables\n",
    "# maximizing prey\n",
    "# f = 0.099\n",
    "f = 0.056\n",
    "# maximizing predator\n",
    "# k = 0.099\n",
    "k = 0.117\n",
    "dt = 1.0\n",
    "dA = 1.0\n",
    "dB = 0.5\n",
    "lapl = np.array([[0.05, 0.2, 0.05],[0.2, -1.0, 0.2],[0.05, 0.2, 0.05]])\n",
    "plot_iter = 50"
   ]
  },
  {
   "cell_type": "code",
   "execution_count": 49,
   "metadata": {},
   "outputs": [
    {
     "name": "stdout",
     "output_type": "stream",
     "text": [
      "Running Simulation\n"
     ]
    },
    {
     "data": {
      "image/png": "[encoded data removed]",
      "text/plain": [
       "<Figure size 432x288 with 1 Axes>"
      ]
     },
     "metadata": {
      "needs_background": "light"
     },
     "output_type": "display_data"
    }
   ],
   "source": [
    "# Run Diffuse Function\n",
    "Simulate(numIter, A, B, f, k, dt, dA, dB, lapl, plot_iter)\n",
    "imageio.mimsave(f'gs_images/{run_number}gs_movie.gif', images)\n",
    "images = []\n",
    "run_number += 1"
   ]
  },
  {
   "cell_type": "code",
   "execution_count": null,
   "metadata": {},
   "outputs": [],
   "source": []
  }
 ],
 "metadata": {
  "kernelspec": {
   "display_name": "Python 3.8.1 64-bit",
   "language": "python",
   "name": "python38164bite50b856670694c2388486772fa125dca"
  },
  "language_info": {
   "codemirror_mode": {
    "name": "ipython",
    "version": 3
   },
   "file_extension": ".py",
   "mimetype": "text/x-python",
   "name": "python",
   "nbconvert_exporter": "python",
   "pygments_lexer": "ipython3",
   "version": "3.8.3"
  }
 },
 "nbformat": 4,
 "nbformat_minor": 4
}
