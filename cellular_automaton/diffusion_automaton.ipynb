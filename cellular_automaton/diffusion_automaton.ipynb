{
 "cells": [
  {
   "cell_type": "code",
   "execution_count": 1,
   "metadata": {},
   "outputs": [],
   "source": [
    "# Michael Nath"
   ]
  },
  {
   "cell_type": "code",
   "execution_count": 19,
   "metadata": {},
   "outputs": [],
   "source": [
    "# import the necessary modules for diffusion function\n",
    "import matplotlib.pyplot as plt\n",
    "import numpy as np\n",
    "import time\n",
    "from scipy import signal\n",
    "import imageio\n",
    "%matplotlib inline\n",
    "images = []"
   ]
  },
  {
   "cell_type": "code",
   "execution_count": 20,
   "metadata": {},
   "outputs": [],
   "source": [
    "# Diffuse function: takes in predator and prey matrices and uses convolution and a laplacian matrix to simulate diffusion per iter"
   ]
  },
  {
   "cell_type": "code",
   "execution_count": 21,
   "metadata": {},
   "outputs": [],
   "source": [
    "def Diffuse(numIter, A, B, dt, dA, dB, lapl, plot_iter):\n",
    "    print(\"Running Simulation\")\n",
    "    start = time.time()\n",
    "    \n",
    "#     Running the simulation\n",
    "    for iter in range(numIter):\n",
    "        A_new = A + (dA * signal.convolve2d(A, lapl, mode=\"same\", boundary=\"fill\", fillvalue=0)) * dt\n",
    "        B_new = B + (dB * signal.convolve2d(B, lapl, mode=\"same\", boundary=\"fill\", fillvalue=0)) * dt\n",
    "        A = np.copy(A_new)\n",
    "        B = np.copy(B_new)\n",
    "        if (iter % plot_iter == 0):\n",
    "            plt.clf()\n",
    "            plt.imshow((B / (A + B)), cmap='Spectral')\n",
    "            plt.axis('off')\n",
    "            now = time.time()\n",
    "#           print(\"Seconds since epoch = \", now - start)\n",
    "#           plt.show()\n",
    "            filename = 'dif_images/diffusion_' + str(iter) + '.png'\n",
    "            plt.savefig(filename)\n",
    "            images.append(imageio.imread(filename))\n",
    "    return A, B"
   ]
  },
  {
   "cell_type": "code",
   "execution_count": 22,
   "metadata": {},
   "outputs": [],
   "source": [
    "# defining props of grid\n",
    "grid_size = 101 # Needs to be an odd number. Probably has to do something with edge cases\n",
    "numIter = 1000\n",
    "seed_size = 11 # needs to be an odd number. \n",
    "A = np.ones((grid_size, grid_size))\n",
    "B = np.zeros((grid_size, grid_size))\n",
    "\n",
    "# Seed the predators\n",
    "B[int(grid_size/2)-int(seed_size/2):int(grid_size/2)+int(seed_size/2)+1, \\\n",
    "int(grid_size/2)-int(seed_size/2):int(grid_size/2)+int(seed_size/2)+1] = \\\n",
    "np.ones((seed_size,seed_size))"
   ]
  },
  {
   "cell_type": "code",
   "execution_count": 23,
   "metadata": {},
   "outputs": [],
   "source": [
    "# defining simulation variables\n",
    "dt = 1.0\n",
    "dA = 0.5\n",
    "dB = 0.25\n",
    "lapl = np.array([[0.05, 0.2, 0.05],[0.2, -1.0, 0.2],[0.05, 0.2, 0.05]])\n",
    "plot_iter = 50"
   ]
  },
  {
   "cell_type": "code",
   "execution_count": 24,
   "metadata": {},
   "outputs": [
    {
     "name": "stdout",
     "output_type": "stream",
     "text": [
      "Running Simulation\n"
     ]
    },
    {
     "data": {
      "image/png": "[encoded data removed]",
      "text/plain": [
       "<Figure size 432x288 with 1 Axes>"
      ]
     },
     "metadata": {
      "needs_background": "light"
     },
     "output_type": "display_data"
    }
   ],
   "source": [
    "# Run Diffuse Function\n",
    "Diffuse(numIter, A, B, dt, dA, dB, lapl, plot_iter)\n",
    "imageio.mimsave('dif_images/0diffusion_movie.gif', images)"
   ]
  },
  {
   "cell_type": "code",
   "execution_count": null,
   "metadata": {},
   "outputs": [],
   "source": []
  }
 ],
 "metadata": {
  "kernelspec": {
   "display_name": "Python 3.8.1 64-bit",
   "language": "python",
   "name": "python38164bite50b856670694c2388486772fa125dca"
  },
  "language_info": {
   "codemirror_mode": {
    "name": "ipython",
    "version": 3
   },
   "file_extension": ".py",
   "mimetype": "text/x-python",
   "name": "python",
   "nbconvert_exporter": "python",
   "pygments_lexer": "ipython3",
   "version": "3.8.3"
  }
 },
 "nbformat": 4,
 "nbformat_minor": 4
}
